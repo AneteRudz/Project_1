{
 "cells": [
  {
   "cell_type": "code",
   "execution_count": null,
   "metadata": {},
   "outputs": [],
   "source": [
    "\"\"\"\n",
    " - Import random module.\n",
    " - Assign to a variable the number of max guesses (10).\n",
    " - Define a function to generate the 'winning combination' that consists of 4 random colors. Colors to choose from: blue, red, yellow, green, purple, pink, orange or brown (colors can repeat).\n",
    " - Define a function to guess the four color combination.\n",
    "     . Ask for the user input until four colors are selected. Create a list with the user's choice.\n",
    " - Define a function for the gameplay:\n",
    "     . Exectue the guess function.\n",
    "     . Loop through the list with user's color choice. \n",
    "         - If the element is in the 'winning combination' and in the correct position - print 'black'. Add each 'black' string to a list called 'winning_list'.\n",
    "         - If the element is in the 'winning combination' but not in the correct position - print 'white'.\n",
    "     . Check if the 'winning_list' contains the following: ('black', 'black', 'black', 'black'). If yes, return 1.\n",
    " - Start the game by executing the function that generates the 'winning combination'.\n",
    " - Create a loop where the game is being played:\n",
    "     . Indicate the current turn.\n",
    "     . Execute the gameplay function.\n",
    "     . Define the winning condition - if all four colors are guessed correcly and the 'winning_list' contains ('black', 'black', 'black', 'black'), game ends. Otherwise user has 10 turns to guess the 'winning combination'.\n",
    "     . Display the original 'winning combination' at the end of the game.\n",
    "\n",
    "\"\"\""
   ]
  }
 ],
 "metadata": {
  "kernelspec": {
   "display_name": "Python 3",
   "language": "python",
   "name": "python3"
  },
  "language_info": {
   "codemirror_mode": {
    "name": "ipython",
    "version": 3
   },
   "file_extension": ".py",
   "mimetype": "text/x-python",
   "name": "python",
   "nbconvert_exporter": "python",
   "pygments_lexer": "ipython3",
   "version": "3.7.3"
  }
 },
 "nbformat": 4,
 "nbformat_minor": 2
}
