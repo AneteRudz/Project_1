{
 "cells": [
  {
   "cell_type": "code",
   "execution_count": 2,
   "metadata": {},
   "outputs": [],
   "source": [
    "import random"
   ]
  },
  {
   "cell_type": "code",
   "execution_count": 4,
   "metadata": {},
   "outputs": [
    {
     "name": "stdout",
     "output_type": "stream",
     "text": [
      "This is the original code ['blue', 'red', 'green', 'purple']\n",
      "Type a color: blue, red, yellow, green, purple, pink, orange or brown. Your choice: jgsf\n",
      "Please type either blue, red, yellow, green, purple, pink, orange or brown\n",
      "Type a color: blue, red, yellow, green, purple, pink, orange or brown. Your choice: red\n",
      "Type a color: blue, red, yellow, green, purple, pink, orange or brown. Your choice: red\n",
      "Type a color: blue, red, yellow, green, purple, pink, orange or brown. Your choice: red\n",
      "Type a color: blue, red, yellow, green, purple, pink, orange or brown. Your choice: skdgjhsldkgjh\n",
      "Please type either blue, red, yellow, green, purple, pink, orange or brown\n",
      "Type a color: blue, red, yellow, green, purple, pink, orange or brown. Your choice: blule\n",
      "Please type either blue, red, yellow, green, purple, pink, orange or brown\n",
      "Type a color: blue, red, yellow, green, purple, pink, orange or brown. Your choice: blue\n",
      "Guess ['red', 'red', 'red', 'blue']\n"
     ]
    }
   ],
   "source": [
    "# Maximum number of guesses:\n",
    "\n",
    "max_guess = 10\n",
    "\n",
    "# Colors to choose from:\n",
    "\n",
    "colors = ['blue', 'red', 'yellow', 'green', 'purple', 'pink', 'orange', 'brown']\n",
    "\n",
    "# Defining the function for the Code Maker(computer) to generate the code:\n",
    "\n",
    "def code_maker(colors):\n",
    "    winning_combo = []\n",
    "    nr_colors = 4\n",
    "    while nr_colors > 0:\n",
    "        x = random.choice(colors)\n",
    "        nr_colors = nr_colors - 1\n",
    "        winning_combo.append(x)\n",
    "    return winning_combo\n",
    "\n",
    "original = code_maker(colors)\n",
    "print('This is the original code',original)\n",
    "\n",
    "\n",
    "# Defining the function for the Code Guesser to guess the code\n",
    "\n",
    "def code_guesser(colors):\n",
    "    choice = []\n",
    "    nr_colors = 4\n",
    "    while nr_colors > 0:\n",
    "        try:\n",
    "            x = input('Type a color: blue, red, yellow, green, purple, pink, orange or brown. Your choice: ')\n",
    "        except:\n",
    "            print('Input error')\n",
    "        if x == 'blue' or x == 'red' or x == 'yellow' or x == 'green' or x == 'purple' or x == 'pink' or x == 'orange' or x == 'brown':\n",
    "            nr_colors = nr_colors - 1\n",
    "            choice.append(x)\n",
    "        else:\n",
    "            print('Please type either blue, red, yellow, green, purple, pink, orange or brown')\n",
    "            continue\n",
    "    return choice\n",
    "\n",
    "guesser = code_guesser(colors)\n",
    "print('Guess',guesser)\n",
    "\n",
    "# Define the function for the gameplay\n",
    "\n",
    "\n",
    "\n"
   ]
  },
  {
   "cell_type": "code",
   "execution_count": null,
   "metadata": {},
   "outputs": [],
   "source": []
  },
  {
   "cell_type": "code",
   "execution_count": null,
   "metadata": {},
   "outputs": [],
   "source": [
    "# Play the game"
   ]
  },
  {
   "cell_type": "code",
   "execution_count": null,
   "metadata": {},
   "outputs": [],
   "source": []
  }
 ],
 "metadata": {
  "kernelspec": {
   "display_name": "Python 3",
   "language": "python",
   "name": "python3"
  },
  "language_info": {
   "codemirror_mode": {
    "name": "ipython",
    "version": 3
   },
   "file_extension": ".py",
   "mimetype": "text/x-python",
   "name": "python",
   "nbconvert_exporter": "python",
   "pygments_lexer": "ipython3",
   "version": "3.7.3"
  }
 },
 "nbformat": 4,
 "nbformat_minor": 2
}
